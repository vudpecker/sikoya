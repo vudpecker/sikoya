{
  "cells": [
    {
      "cell_type": "markdown",
      "metadata": {
        "colab_type": "text",
        "id": "view-in-github"
      },
      "source": [
        "<a href=\"https://colab.research.google.com/github/vudpecker/sikoya/blob/main/Workbook1.ipynb\" target=\"_parent\"><img src=\"https://colab.research.google.com/assets/colab-badge.svg\" alt=\"Open In Colab\"/></a>"
      ]
    },
    {
      "cell_type": "code",
      "execution_count": 77,
      "metadata": {
        "colab": {
          "base_uri": "https://localhost:8080/"
        },
        "id": "7FgfwSOLwDAW",
        "outputId": "5ab52d6e-6b82-4ebb-c1b3-e2dbe3e6383c"
      },
      "outputs": [
        {
          "name": "stdout",
          "output_type": "stream",
          "text": [
            "Hello Raj! welcome\n"
          ]
        }
      ],
      "source": [
        "word = \"Hello Raj!\"\n",
        "#print(word, \"welcome\")\n",
        "\n",
        "#concatenate\n",
        "print(word + \" \" + \"welcome\")\n"
      ]
    },
    {
      "cell_type": "code",
      "execution_count": 99,
      "metadata": {},
      "outputs": [
        {
          "data": {
            "text/plain": [
              "False"
            ]
          },
          "execution_count": 99,
          "metadata": {},
          "output_type": "execute_result"
        }
      ],
      "source": [
        "temp = 95\n",
        "\n",
        "temp == 95\n",
        "\n",
        "temp < 50\n",
        "\n"
      ]
    },
    {
      "cell_type": "code",
      "execution_count": 102,
      "metadata": {},
      "outputs": [
        {
          "name": "stdout",
          "output_type": "stream",
          "text": [
            "Raaj\n"
          ]
        }
      ],
      "source": [
        "#print(r\"This is a raw string with a backslash: \\\")\n",
        "\n",
        "name = input(\"What's ur name? \")\n",
        "\n",
        "print(name)"
      ]
    },
    {
      "cell_type": "code",
      "execution_count": null,
      "metadata": {},
      "outputs": [],
      "source": [
        "from itertools import permutations \n",
        "new_list = list(permutations([2,3,4]))\n",
        "\n",
        "print(new_list)"
      ]
    },
    {
      "cell_type": "code",
      "execution_count": 104,
      "metadata": {},
      "outputs": [
        {
          "data": {
            "text/plain": [
              "3.0"
            ]
          },
          "execution_count": 104,
          "metadata": {},
          "output_type": "execute_result"
        }
      ],
      "source": [
        "\t\n",
        "#floored quotient\n",
        "\n",
        "my_fl = 7.6\n",
        "\n",
        "my_fl // 2"
      ]
    },
    {
      "cell_type": "code",
      "execution_count": 97,
      "metadata": {},
      "outputs": [
        {
          "name": "stdout",
          "output_type": "stream",
          "text": [
            "Take a walk\n"
          ]
        }
      ],
      "source": [
        "current_temp = 19\n",
        "\n",
        "forecaset = \"Sunny\"\n",
        "\n",
        "if current_temp < 18 and forecaset != \"Sunny\":\n",
        "    print(\"Carry an Umbrella\")\n",
        "elif current_temp > 18 and forecaset == \"sunny\".title() or forecaset.lower() == \"sunny\":\n",
        "    print(\"Take a walk\")\n",
        "else:\n",
        "    #print(\"Play outside\")\n",
        "    print(\"Stay home\")\n"
      ]
    },
    {
      "cell_type": "code",
      "execution_count": 72,
      "metadata": {
        "id": "yjZRt4rKzzdo"
      },
      "outputs": [
        {
          "name": "stdout",
          "output_type": "stream",
          "text": [
            "[1, 2, 3, 4, 5]\n"
          ]
        }
      ],
      "source": [
        "print(sorted({1: 'D', 2: 'B', 3: 'B', 4: 'E', 5: 'A'}))\n",
        "\n",
        "newDict = sorted({1: 'D', 2: 'B', 3: 'B', 4: 'E', 5: 'A'})\n",
        "\n",
        "#print(newDict.Value)\n",
        "\n",
        "#sorted(({1: 'D',}, {2: 'B',}, {3: 'B',}, {4: 'E',}, { 5: 'A',}))\n",
        "\n",
        "\n"
      ]
    },
    {
      "cell_type": "code",
      "execution_count": 70,
      "metadata": {},
      "outputs": [
        {
          "name": "stdout",
          "output_type": "stream",
          "text": [
            "player is Scissors Vs computer is Rock\n"
          ]
        }
      ],
      "source": [
        "from random import randint\n",
        "t = [\"Rock\", \"Paper\", \"Scissors\"]\n",
        "\n",
        "computer = t[randint(0,2)]\n",
        "#print(computer)\n",
        "#player = input(\"Rock, Paper, Scissors?\")\n",
        "player = \"Scissors\" #as of now a static value\n",
        "\n",
        "\n",
        "if player == computer:\n",
        "    print(\"Tie!\")\n",
        "else:\n",
        "    print(f\"player is {player} Vs computer is {computer}\")\n"
      ]
    },
    {
      "cell_type": "code",
      "execution_count": null,
      "metadata": {},
      "outputs": [
        {
          "data": {
            "text/plain": [
              "[('dave', 'B', 10), ('jane', 'B', 12), ('john', 'A', 15)]"
            ]
          },
          "execution_count": 12,
          "metadata": {},
          "output_type": "execute_result"
        }
      ],
      "source": [
        "sorted({\n",
        "    ('john', 'A', 15),\n",
        "    ('jane', 'B', 12),\n",
        "    ('dave', 'B', 10),\n",
        "})"
      ]
    },
    {
      "cell_type": "code",
      "execution_count": 8,
      "metadata": {},
      "outputs": [
        {
          "name": "stdout",
          "output_type": "stream",
          "text": [
            "Subject\n",
            "��� Kids Diana Show - BDC\n",
            "Business Data Collection - BDC\n",
            "Business Data Collection - BDC\n",
            "Business Data Collection - BDC\n",
            "Business Data Collection - BDC\n",
            "Business ��� Collection - BDC\n",
            "Business Data Collection - BDC\n",
            "Business Data Collection - BDC\n",
            "Business Data Collection - BDC\n",
            "Business Data ��� - BDC\n",
            "Business Data Collection - BDC\n",
            "Business Data Collection - BDC\n",
            "Business Data Collection - BDC\n",
            "Business Data ��� - BDC\n",
            "Business Data Collection - BDC\n",
            "Business Data Collection - BDC\n",
            "Business Data ��� - BDC\n",
            "��� Data Collection - BDC\n",
            "Business Data Collection - BDC\n",
            "Business Data Collection - BDC\n",
            "Business ��� Collection - BDC\n",
            "Business Data Collection - BDC\n",
            "��� Data Collection - BDC\n",
            "Business Data Collection - BDC\n"
          ]
        }
      ],
      "source": [
        "import csv\n",
        "\n",
        "file_path = \"employment-data-sep-2023.csv\"  \n",
        "\n",
        "# Open the CSV file\n",
        "with open(file_path, \"r\", encoding=\"utf-8\") as csvfile:\n",
        "    csv_reader = csv.reader(csvfile, delimiter=\",\")\n",
        "    \n",
        "    # Print the seventh column for each row\n",
        "    for row in csv_reader:\n",
        "        print(row[7])"
      ]
    },
    {
      "cell_type": "code",
      "execution_count": null,
      "metadata": {},
      "outputs": [],
      "source": []
    }
  ],
  "metadata": {
    "colab": {
      "authorship_tag": "ABX9TyOAPkLpLXihkWH4Z2wvNptF",
      "include_colab_link": true,
      "provenance": []
    },
    "kernelspec": {
      "display_name": "Python 3",
      "name": "python3"
    },
    "language_info": {
      "codemirror_mode": {
        "name": "ipython",
        "version": 3
      },
      "file_extension": ".py",
      "mimetype": "text/x-python",
      "name": "python",
      "nbconvert_exporter": "python",
      "pygments_lexer": "ipython3",
      "version": "3.11.8"
    }
  },
  "nbformat": 4,
  "nbformat_minor": 0
}
