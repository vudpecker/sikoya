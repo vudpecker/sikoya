{
  "cells": [
    {
      "cell_type": "markdown",
      "metadata": {
        "colab_type": "text",
        "id": "view-in-github"
      },
      "source": [
        "<a href=\"https://colab.research.google.com/github/vudpecker/sikoya/blob/main/Workbook1.ipynb\" target=\"_parent\"><img src=\"https://colab.research.google.com/assets/colab-badge.svg\" alt=\"Open In Colab\"/></a>"
      ]
    },
    {
      "cell_type": "code",
      "execution_count": null,
      "metadata": {},
      "outputs": [],
      "source": [
        "grades = [15.0,0,15.4]\n",
        "\n",
        "#c = grades[2] if grades[1] else grades[0]\n",
        "\n",
        "c = grades(2) if grades(1) else grades(0)\n",
        "\n",
        "print(c)\n",
        "\n",
        "\"\"\"TypeError: 'list' object is not callable\"\"\""
      ]
    },
    {
      "cell_type": "markdown",
      "metadata": {},
      "source": [
        "This is a new *document*"
      ]
    },
    {
      "cell_type": "code",
      "execution_count": null,
      "metadata": {},
      "outputs": [],
      "source": [
        "grades = {15.0, 1, 15.4}\n",
        "\n",
        "c = grades[2] if grades[1] else grades[0]\n",
        "\n",
        "print(c)\n",
        "\n",
        "\"\"\"TypeError: 'set' object is not subscriptable\"\"\""
      ]
    },
    {
      "cell_type": "code",
      "execution_count": null,
      "metadata": {
        "colab": {
          "base_uri": "https://localhost:8080/"
        },
        "id": "7FgfwSOLwDAW",
        "outputId": "5ab52d6e-6b82-4ebb-c1b3-e2dbe3e6383c"
      },
      "outputs": [],
      "source": [
        "word = \"Hello Raj!\"\n",
        "#print(word, \"welcome\")\n",
        "\n",
        "#concatenate\n",
        "print(word + \" \" + \"welcome\")\n"
      ]
    },
    {
      "cell_type": "code",
      "execution_count": null,
      "metadata": {},
      "outputs": [],
      "source": [
        "temp = 95\n",
        "\n",
        "temp == 95\n",
        "\n",
        "temp < 50\n",
        "\n"
      ]
    },
    {
      "cell_type": "code",
      "execution_count": null,
      "metadata": {},
      "outputs": [],
      "source": [
        "#print(r\"This is a raw string with a backslash: \\\")\n",
        "\n",
        "name = input(\"What's ur name? \")\n",
        "\n",
        "print(name)"
      ]
    },
    {
      "cell_type": "code",
      "execution_count": null,
      "metadata": {},
      "outputs": [],
      "source": [
        "from itertools import permutations \n",
        "new_list = list(permutations([2,3,4]))\n",
        "\n",
        "print(new_list)"
      ]
    },
    {
      "cell_type": "code",
      "execution_count": null,
      "metadata": {},
      "outputs": [],
      "source": [
        "\t\n",
        "#floored quotient\n",
        "\n",
        "my_fl = 7.6\n",
        "\n",
        "my_fl // 2"
      ]
    },
    {
      "cell_type": "code",
      "execution_count": null,
      "metadata": {},
      "outputs": [],
      "source": [
        "current_temp = 19\n",
        "\n",
        "forecaset = \"Sunny\"\n",
        "\n",
        "if current_temp < 18 and forecaset != \"Sunny\":\n",
        "    print(\"Carry an Umbrella\")\n",
        "elif current_temp > 18 and forecaset == \"sunny\".title() or forecaset.lower() == \"sunny\":\n",
        "    print(\"Take a walk\")\n",
        "else:\n",
        "    #print(\"Play outside\")\n",
        "    print(\"Stay home\")\n"
      ]
    },
    {
      "cell_type": "code",
      "execution_count": null,
      "metadata": {
        "id": "yjZRt4rKzzdo"
      },
      "outputs": [],
      "source": [
        "print(sorted({1: 'D', 2: 'B', 3: 'B', 4: 'E', 5: 'A'}))\n",
        "\n",
        "newDict = sorted({1: 'D', 2: 'B', 3: 'B', 4: 'E', 5: 'A'})\n",
        "\n",
        "#print(newDict.Value)\n",
        "\n",
        "#sorted(({1: 'D',}, {2: 'B',}, {3: 'B',}, {4: 'E',}, { 5: 'A',}))\n",
        "\n",
        "\n"
      ]
    },
    {
      "cell_type": "code",
      "execution_count": null,
      "metadata": {},
      "outputs": [],
      "source": [
        "from random import randint\n",
        "t = [\"Rock\", \"Paper\", \"Scissors\"]\n",
        "\n",
        "computer = t[randint(0,2)]\n",
        "#print(computer)\n",
        "#player = input(\"Rock, Paper, Scissors?\")\n",
        "player = \"Scissors\" #as of now a static value\n",
        "\n",
        "\n",
        "if player == computer:\n",
        "    print(\"Tie!\")\n",
        "else:\n",
        "    print(f\"player is {player} Vs computer is {computer}\")\n"
      ]
    },
    {
      "cell_type": "code",
      "execution_count": null,
      "metadata": {},
      "outputs": [],
      "source": [
        "sorted({\n",
        "    ('john', 'A', 15),\n",
        "    ('jane', 'B', 12),\n",
        "    ('dave', 'B', 10),\n",
        "})"
      ]
    },
    {
      "cell_type": "code",
      "execution_count": null,
      "metadata": {},
      "outputs": [],
      "source": [
        "import csv\n",
        "\n",
        "file_path = \"employment-data-sep-2023.csv\"  \n",
        "\n",
        "# Open the CSV file\n",
        "with open(file_path, \"r\", encoding=\"utf-8\") as csvfile:\n",
        "    csv_reader = csv.reader(csvfile, delimiter=\",\")\n",
        "    \n",
        "    # Print the seventh column for each row\n",
        "    for row in csv_reader:\n",
        "        print(row[7])"
      ]
    },
    {
      "cell_type": "code",
      "execution_count": null,
      "metadata": {},
      "outputs": [],
      "source": []
    }
  ],
  "metadata": {
    "colab": {
      "authorship_tag": "ABX9TyOAPkLpLXihkWH4Z2wvNptF",
      "include_colab_link": true,
      "provenance": []
    },
    "kernelspec": {
      "display_name": "Python 3",
      "name": "python3"
    },
    "language_info": {
      "codemirror_mode": {
        "name": "ipython",
        "version": 3
      },
      "file_extension": ".py",
      "mimetype": "text/x-python",
      "name": "python",
      "nbconvert_exporter": "python",
      "pygments_lexer": "ipython3",
      "version": "3.11.8"
    }
  },
  "nbformat": 4,
  "nbformat_minor": 0
}
